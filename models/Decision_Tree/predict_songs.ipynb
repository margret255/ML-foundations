{
  "nbformat": 4,
  "nbformat_minor": 0,
  "metadata": {
    "colab": {
      "provenance": []
    },
    "kernelspec": {
      "name": "python3",
      "display_name": "Python 3"
    },
    "language_info": {
      "name": "python"
    }
  },
  "cells": [
    {
      "cell_type": "code",
      "execution_count": null,
      "metadata": {
        "id": "YjVL-qKezfAg",
        "colab": {
          "base_uri": "https://localhost:8080/"
        },
        "outputId": "eec81bc6-5e1f-4f03-8a83-3505b218e5bd"
      },
      "outputs": [
        {
          "output_type": "stream",
          "name": "stdout",
          "text": [
            "Accuracy: 0.0\n",
            "Predicted favorite song for a 25-year-old female: songA\n"
          ]
        }
      ],
      "source": [
        "import pandas as pd\n",
        "from sklearn.model_selection import train_test_split\n",
        "from sklearn.tree import DecisionTreeClassifier\n",
        "from sklearn.metrics import accuracy_score\n",
        "from sklearn.preprocessing import LabelEncoder\n",
        "\n",
        "# Sample data: gender, age, and favorite song (target)\n",
        "data = {\n",
        "    'gender': ['male', 'female', 'female', 'male', 'male', 'female', 'female', 'male'],\n",
        "    'age': [20, 22, 23, 21, 35, 30, 29, 40],\n",
        "    'favorite_song': ['songA', 'songB', 'songA', 'songC', 'songB', 'songC', 'songA', 'songB']\n",
        "}\n",
        "\n",
        "df = pd.DataFrame(data)\n",
        "\n",
        "# Encode categorical features to numbers\n",
        "le_gender = LabelEncoder()\n",
        "le_song = LabelEncoder()\n",
        "\n",
        "df['gender_encoded'] = le_gender.fit_transform(df['gender'])\n",
        "df['song_encoded'] = le_song.fit_transform(df['favorite_song'])\n",
        "\n",
        "# Features and target\n",
        "X = df[['gender_encoded', 'age']]\n",
        "y = df['song_encoded']\n",
        "\n",
        "# Split data\n",
        "X_train, X_test, y_train, y_test = train_test_split(X, y, test_size=0.2, random_state=42)\n",
        "\n",
        "# Train decision tree\n",
        "clf = DecisionTreeClassifier()\n",
        "clf.fit(X_train, y_train)\n",
        "\n",
        "# Predict\n",
        "y_pred = clf.predict(X_test)\n",
        "\n",
        "# Evaluate\n",
        "print(\"Accuracy:\", accuracy_score(y_test, y_pred))\n",
        "\n",
        "# To predict new data, for example a 25-year-old female\n",
        "new_data = pd.DataFrame({'gender_encoded': [le_gender.transform(['female'])[0]], 'age': [25]})\n",
        "predicted_song_encoded = clf.predict(new_data)\n",
        "predicted_song = le_song.inverse_transform(predicted_song_encoded)\n",
        "\n",
        "print(\"Predicted favorite song for a 25-year-old female:\", predicted_song[0])\n"
      ]
    }
  ]
}